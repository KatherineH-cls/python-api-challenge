{
 "cells": [
  {
   "cell_type": "markdown",
   "source": [
    "# VacationPy\n",
    "----\n",
    "\n",
    "#### Note\n",
    "* Keep an eye on your API usage. Use https://developers.google.com/maps/reporting/gmp-reporting as reference for how to monitor your usage and billing.\n",
    "\n",
    "* Instructions have been included for each segment. You do not have to follow them exactly, but they are included to help you think through the steps."
   ],
   "metadata": {}
  },
  {
   "cell_type": "code",
   "execution_count": 23,
   "source": [
    "# Dependencies and Setup\r\n",
    "import matplotlib.pyplot as plt\r\n",
    "import pandas as pd\r\n",
    "import numpy as np\r\n",
    "import requests\r\n",
    "import gmaps\r\n",
    "import os\r\n",
    "\r\n",
    "# Import API key\r\n",
    "from config import g_key\r\n",
    "\r\n",
    "# Configure gmaps\r\n",
    "gmaps.configure(api_key=g_key)"
   ],
   "outputs": [],
   "metadata": {}
  },
  {
   "cell_type": "markdown",
   "source": [
    "### Store Part I results into DataFrame\n",
    "* Load the csv exported in Part I to a DataFrame"
   ],
   "metadata": {}
  },
  {
   "cell_type": "code",
   "execution_count": 24,
   "source": [
    "filename = \"../WeatherPy/weather_data.csv\"\r\n",
    "weather_data = pd.read_csv(filename)\r\n",
    "\r\n",
    "weather_data.head()\r\n"
   ],
   "outputs": [
    {
     "output_type": "execute_result",
     "data": {
      "text/plain": [
       "             city  latitude  longitude  temp_max_F  humid  cloud  wind_mph\n",
       "0          albany   42.6001   -73.9662       68.72     96     15      4.36\n",
       "1         ushuaia  -54.8000   -68.3000       37.06     93     75      0.00\n",
       "2  saint-philippe  -21.3585    55.7679       72.95     73     75     15.77\n",
       "3        chabahar   25.2919    60.6430       87.98     80     52      6.98\n",
       "4         rikitea  -23.1203  -134.9692       71.65     65     99     24.83"
      ],
      "text/html": [
       "<div>\n",
       "<style scoped>\n",
       "    .dataframe tbody tr th:only-of-type {\n",
       "        vertical-align: middle;\n",
       "    }\n",
       "\n",
       "    .dataframe tbody tr th {\n",
       "        vertical-align: top;\n",
       "    }\n",
       "\n",
       "    .dataframe thead th {\n",
       "        text-align: right;\n",
       "    }\n",
       "</style>\n",
       "<table border=\"1\" class=\"dataframe\">\n",
       "  <thead>\n",
       "    <tr style=\"text-align: right;\">\n",
       "      <th></th>\n",
       "      <th>city</th>\n",
       "      <th>latitude</th>\n",
       "      <th>longitude</th>\n",
       "      <th>temp_max_F</th>\n",
       "      <th>humid</th>\n",
       "      <th>cloud</th>\n",
       "      <th>wind_mph</th>\n",
       "    </tr>\n",
       "  </thead>\n",
       "  <tbody>\n",
       "    <tr>\n",
       "      <th>0</th>\n",
       "      <td>albany</td>\n",
       "      <td>42.6001</td>\n",
       "      <td>-73.9662</td>\n",
       "      <td>68.72</td>\n",
       "      <td>96</td>\n",
       "      <td>15</td>\n",
       "      <td>4.36</td>\n",
       "    </tr>\n",
       "    <tr>\n",
       "      <th>1</th>\n",
       "      <td>ushuaia</td>\n",
       "      <td>-54.8000</td>\n",
       "      <td>-68.3000</td>\n",
       "      <td>37.06</td>\n",
       "      <td>93</td>\n",
       "      <td>75</td>\n",
       "      <td>0.00</td>\n",
       "    </tr>\n",
       "    <tr>\n",
       "      <th>2</th>\n",
       "      <td>saint-philippe</td>\n",
       "      <td>-21.3585</td>\n",
       "      <td>55.7679</td>\n",
       "      <td>72.95</td>\n",
       "      <td>73</td>\n",
       "      <td>75</td>\n",
       "      <td>15.77</td>\n",
       "    </tr>\n",
       "    <tr>\n",
       "      <th>3</th>\n",
       "      <td>chabahar</td>\n",
       "      <td>25.2919</td>\n",
       "      <td>60.6430</td>\n",
       "      <td>87.98</td>\n",
       "      <td>80</td>\n",
       "      <td>52</td>\n",
       "      <td>6.98</td>\n",
       "    </tr>\n",
       "    <tr>\n",
       "      <th>4</th>\n",
       "      <td>rikitea</td>\n",
       "      <td>-23.1203</td>\n",
       "      <td>-134.9692</td>\n",
       "      <td>71.65</td>\n",
       "      <td>65</td>\n",
       "      <td>99</td>\n",
       "      <td>24.83</td>\n",
       "    </tr>\n",
       "  </tbody>\n",
       "</table>\n",
       "</div>"
      ]
     },
     "metadata": {},
     "execution_count": 24
    }
   ],
   "metadata": {}
  },
  {
   "cell_type": "code",
   "execution_count": 25,
   "source": [
    "weather_data.info()"
   ],
   "outputs": [
    {
     "output_type": "stream",
     "name": "stdout",
     "text": [
      "<class 'pandas.core.frame.DataFrame'>\n",
      "RangeIndex: 551 entries, 0 to 550\n",
      "Data columns (total 7 columns):\n",
      " #   Column      Non-Null Count  Dtype  \n",
      "---  ------      --------------  -----  \n",
      " 0   city        551 non-null    object \n",
      " 1   latitude    551 non-null    float64\n",
      " 2   longitude   551 non-null    float64\n",
      " 3   temp_max_F  551 non-null    float64\n",
      " 4   humid       551 non-null    int64  \n",
      " 5   cloud       551 non-null    int64  \n",
      " 6   wind_mph    551 non-null    float64\n",
      "dtypes: float64(4), int64(2), object(1)\n",
      "memory usage: 30.3+ KB\n"
     ]
    }
   ],
   "metadata": {}
  },
  {
   "cell_type": "markdown",
   "source": [
    "### Humidity Heatmap\n",
    "* Configure gmaps.\n",
    "* Use the Lat and Lng as locations and Humidity as the weight.\n",
    "* Add Heatmap layer to map."
   ],
   "metadata": {}
  },
  {
   "cell_type": "code",
   "execution_count": 83,
   "source": [
    "# Store latitude and longitude in locations\r\n",
    "locations = weather_data[[\"latitude\", \"longitude\"]]\r\n",
    "\r\n",
    "# use humidity as the weight\r\n",
    "map_weight = weather_data[\"humid\"]\r\n",
    "\r\n",
    "# set figure layout\r\n",
    "figure_layout = {\r\n",
    "    'width': '400px',\r\n",
    "    'height': '300px',\r\n",
    "    'border': '1px solid black',\r\n",
    "    'padding': '1px'\r\n",
    "}\r\n",
    "\r\n",
    "# Plot Heatmap\r\n",
    "fig = gmaps.figure(map_type = 'HYBRID', layout=figure_layout)\r\n",
    "\r\n",
    "\r\n",
    "\r\n",
    "# Create heat layer\r\n",
    "heat_layer = gmaps.heatmap_layer(locations, \r\n",
    "                                weights=map_weight,\r\n",
    "                                dissipating=False, \r\n",
    "                                max_intensity=200,\r\n",
    "                                point_radius=8, \r\n",
    "                                opacity = 0.5,\r\n",
    "                                gradient = [\r\n",
    "                                            'white',\r\n",
    "                                            'aqua',\r\n",
    "                                            'purple'\r\n",
    "                                            ])\r\n",
    "\r\n",
    "# Add layer\r\n",
    "fig.add_layer(heat_layer)\r\n",
    "\r\n",
    "# Display figure\r\n",
    "fig\r\n"
   ],
   "outputs": [
    {
     "output_type": "display_data",
     "data": {
      "text/plain": [
       "Figure(layout=FigureLayout(border='1px solid black', height='300px', padding='1px', width='400px'))"
      ],
      "application/vnd.jupyter.widget-view+json": {
       "version_major": 2,
       "version_minor": 0,
       "model_id": "e92baf3d6d0144b4bea67104717bb1e8"
      }
     },
     "metadata": {}
    }
   ],
   "metadata": {}
  },
  {
   "cell_type": "code",
   "execution_count": null,
   "source": [],
   "outputs": [],
   "metadata": {}
  },
  {
   "cell_type": "markdown",
   "source": [
    "### Create new DataFrame fitting weather criteria\n",
    "* Narrow down the cities to fit weather conditions.\n",
    "* Drop any rows will null values."
   ],
   "metadata": {}
  },
  {
   "cell_type": "code",
   "execution_count": 93,
   "source": [
    "ideal_weather_places = weather_data.loc[\r\n",
    "    (weather_data['temp_max_F']> 81) &\r\n",
    "    (weather_data['temp_max_F']< 85) &\r\n",
    "    (weather_data['cloud']<40) & \r\n",
    "    (weather_data['wind_mph']<20)]\r\n",
    "\r\n",
    "\r\n",
    "print(len(ideal_weather_places))"
   ],
   "outputs": [
    {
     "output_type": "stream",
     "name": "stdout",
     "text": [
      "8\n"
     ]
    }
   ],
   "metadata": {}
  },
  {
   "cell_type": "markdown",
   "source": [
    "### Hotel Map\n",
    "* Store into variable named `hotel_df`.\n",
    "* Add a \"Hotel Name\" column to the DataFrame.\n",
    "* Set parameters to search for hotels with 5000 meters.\n",
    "* Hit the Google Places API for each city's coordinates.\n",
    "* Store the first Hotel result into the DataFrame.\n",
    "* Plot markers on top of the heatmap."
   ],
   "metadata": {}
  },
  {
   "cell_type": "code",
   "execution_count": null,
   "source": [],
   "outputs": [],
   "metadata": {}
  },
  {
   "cell_type": "code",
   "execution_count": null,
   "source": [],
   "outputs": [],
   "metadata": {}
  },
  {
   "cell_type": "code",
   "execution_count": 28,
   "source": [
    "# NOTE: Do not change any of the code in this cell\r\n",
    "\r\n",
    "# Using the template add the hotel marks to the heatmap\r\n",
    "info_box_template = \"\"\"\r\n",
    "<dl>\r\n",
    "<dt>Name</dt><dd>{Hotel Name}</dd>\r\n",
    "<dt>City</dt><dd>{City}</dd>\r\n",
    "<dt>Country</dt><dd>{Country}</dd>\r\n",
    "</dl>\r\n",
    "\"\"\"\r\n",
    "# Store the DataFrame Row\r\n",
    "# NOTE: be sure to update with your DataFrame name\r\n",
    "hotel_info = [info_box_template.format(**row) for index, row in hotel_df.iterrows()]\r\n",
    "locations = hotel_df[[\"Lat\", \"Lng\"]]"
   ],
   "outputs": [
    {
     "output_type": "error",
     "ename": "NameError",
     "evalue": "name 'hotel_df' is not defined",
     "traceback": [
      "\u001b[1;31m---------------------------------------------------------------------------\u001b[0m",
      "\u001b[1;31mNameError\u001b[0m                                 Traceback (most recent call last)",
      "\u001b[1;32m<ipython-input-28-464b2b3e63ad>\u001b[0m in \u001b[0;36m<module>\u001b[1;34m\u001b[0m\n\u001b[0;32m     11\u001b[0m \u001b[1;31m# Store the DataFrame Row\u001b[0m\u001b[1;33m\u001b[0m\u001b[1;33m\u001b[0m\u001b[1;33m\u001b[0m\u001b[0m\n\u001b[0;32m     12\u001b[0m \u001b[1;31m# NOTE: be sure to update with your DataFrame name\u001b[0m\u001b[1;33m\u001b[0m\u001b[1;33m\u001b[0m\u001b[1;33m\u001b[0m\u001b[0m\n\u001b[1;32m---> 13\u001b[1;33m \u001b[0mhotel_info\u001b[0m \u001b[1;33m=\u001b[0m \u001b[1;33m[\u001b[0m\u001b[0minfo_box_template\u001b[0m\u001b[1;33m.\u001b[0m\u001b[0mformat\u001b[0m\u001b[1;33m(\u001b[0m\u001b[1;33m**\u001b[0m\u001b[0mrow\u001b[0m\u001b[1;33m)\u001b[0m \u001b[1;32mfor\u001b[0m \u001b[0mindex\u001b[0m\u001b[1;33m,\u001b[0m \u001b[0mrow\u001b[0m \u001b[1;32min\u001b[0m \u001b[0mhotel_df\u001b[0m\u001b[1;33m.\u001b[0m\u001b[0miterrows\u001b[0m\u001b[1;33m(\u001b[0m\u001b[1;33m)\u001b[0m\u001b[1;33m]\u001b[0m\u001b[1;33m\u001b[0m\u001b[1;33m\u001b[0m\u001b[0m\n\u001b[0m\u001b[0;32m     14\u001b[0m \u001b[0mlocations\u001b[0m \u001b[1;33m=\u001b[0m \u001b[0mhotel_df\u001b[0m\u001b[1;33m[\u001b[0m\u001b[1;33m[\u001b[0m\u001b[1;34m\"Lat\"\u001b[0m\u001b[1;33m,\u001b[0m \u001b[1;34m\"Lng\"\u001b[0m\u001b[1;33m]\u001b[0m\u001b[1;33m]\u001b[0m\u001b[1;33m\u001b[0m\u001b[1;33m\u001b[0m\u001b[0m\n",
      "\u001b[1;31mNameError\u001b[0m: name 'hotel_df' is not defined"
     ]
    }
   ],
   "metadata": {}
  },
  {
   "cell_type": "code",
   "execution_count": null,
   "source": [
    "# Add marker layer ontop of heat map\r\n",
    "\r\n",
    "\r\n",
    "# Display figure\r\n"
   ],
   "outputs": [],
   "metadata": {}
  },
  {
   "cell_type": "code",
   "execution_count": null,
   "source": [],
   "outputs": [],
   "metadata": {}
  }
 ],
 "metadata": {
  "kernelspec": {
   "display_name": "pydev",
   "language": "python",
   "name": "pydev"
  },
  "language_info": {
   "codemirror_mode": {
    "name": "ipython",
    "version": 3
   },
   "file_extension": ".py",
   "mimetype": "text/x-python",
   "name": "python",
   "nbconvert_exporter": "python",
   "pygments_lexer": "ipython3",
   "version": "3.7.7"
  },
  "latex_envs": {
   "LaTeX_envs_menu_present": true,
   "autoclose": false,
   "autocomplete": true,
   "bibliofile": "biblio.bib",
   "cite_by": "apalike",
   "current_citInitial": 1,
   "eqLabelWithNumbers": true,
   "eqNumInitial": 1,
   "hotkeys": {
    "equation": "Ctrl-E",
    "itemize": "Ctrl-I"
   },
   "labels_anchors": false,
   "latex_user_defs": false,
   "report_style_numbering": false,
   "user_envs_cfg": false
  }
 },
 "nbformat": 4,
 "nbformat_minor": 4
}