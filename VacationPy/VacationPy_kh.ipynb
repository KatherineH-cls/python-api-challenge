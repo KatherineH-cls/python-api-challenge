{
 "cells": [
  {
   "cell_type": "markdown",
   "source": [
    "# VacationPy\n",
    "----\n",
    "\n",
    "#### Note\n",
    "* Keep an eye on your API usage. Use https://developers.google.com/maps/reporting/gmp-reporting as reference for how to monitor your usage and billing.\n",
    "\n",
    "* Instructions have been included for each segment. You do not have to follow them exactly, but they are included to help you think through the steps."
   ],
   "metadata": {}
  },
  {
   "cell_type": "code",
   "execution_count": 23,
   "source": [
    "# Dependencies and Setup\r\n",
    "import matplotlib.pyplot as plt\r\n",
    "import pandas as pd\r\n",
    "import numpy as np\r\n",
    "import requests\r\n",
    "import gmaps\r\n",
    "import os\r\n",
    "\r\n",
    "# Import API key\r\n",
    "from config import g_key\r\n",
    "\r\n",
    "# Configure gmaps\r\n",
    "gmaps.configure(api_key=g_key)"
   ],
   "outputs": [],
   "metadata": {}
  },
  {
   "cell_type": "markdown",
   "source": [
    "### Store Part I results into DataFrame\n",
    "* Load the csv exported in Part I to a DataFrame"
   ],
   "metadata": {}
  },
  {
   "cell_type": "code",
   "execution_count": 24,
   "source": [
    "filename = \"../WeatherPy/weather_data.csv\"\r\n",
    "weather_data = pd.read_csv(filename)\r\n",
    "\r\n",
    "weather_data.head()\r\n"
   ],
   "outputs": [
    {
     "output_type": "execute_result",
     "data": {
      "text/plain": [
       "             city  latitude  longitude  temp_max_F  humid  cloud  wind_mph\n",
       "0          albany   42.6001   -73.9662       68.72     96     15      4.36\n",
       "1         ushuaia  -54.8000   -68.3000       37.06     93     75      0.00\n",
       "2  saint-philippe  -21.3585    55.7679       72.95     73     75     15.77\n",
       "3        chabahar   25.2919    60.6430       87.98     80     52      6.98\n",
       "4         rikitea  -23.1203  -134.9692       71.65     65     99     24.83"
      ],
      "text/html": [
       "<div>\n",
       "<style scoped>\n",
       "    .dataframe tbody tr th:only-of-type {\n",
       "        vertical-align: middle;\n",
       "    }\n",
       "\n",
       "    .dataframe tbody tr th {\n",
       "        vertical-align: top;\n",
       "    }\n",
       "\n",
       "    .dataframe thead th {\n",
       "        text-align: right;\n",
       "    }\n",
       "</style>\n",
       "<table border=\"1\" class=\"dataframe\">\n",
       "  <thead>\n",
       "    <tr style=\"text-align: right;\">\n",
       "      <th></th>\n",
       "      <th>city</th>\n",
       "      <th>latitude</th>\n",
       "      <th>longitude</th>\n",
       "      <th>temp_max_F</th>\n",
       "      <th>humid</th>\n",
       "      <th>cloud</th>\n",
       "      <th>wind_mph</th>\n",
       "    </tr>\n",
       "  </thead>\n",
       "  <tbody>\n",
       "    <tr>\n",
       "      <th>0</th>\n",
       "      <td>albany</td>\n",
       "      <td>42.6001</td>\n",
       "      <td>-73.9662</td>\n",
       "      <td>68.72</td>\n",
       "      <td>96</td>\n",
       "      <td>15</td>\n",
       "      <td>4.36</td>\n",
       "    </tr>\n",
       "    <tr>\n",
       "      <th>1</th>\n",
       "      <td>ushuaia</td>\n",
       "      <td>-54.8000</td>\n",
       "      <td>-68.3000</td>\n",
       "      <td>37.06</td>\n",
       "      <td>93</td>\n",
       "      <td>75</td>\n",
       "      <td>0.00</td>\n",
       "    </tr>\n",
       "    <tr>\n",
       "      <th>2</th>\n",
       "      <td>saint-philippe</td>\n",
       "      <td>-21.3585</td>\n",
       "      <td>55.7679</td>\n",
       "      <td>72.95</td>\n",
       "      <td>73</td>\n",
       "      <td>75</td>\n",
       "      <td>15.77</td>\n",
       "    </tr>\n",
       "    <tr>\n",
       "      <th>3</th>\n",
       "      <td>chabahar</td>\n",
       "      <td>25.2919</td>\n",
       "      <td>60.6430</td>\n",
       "      <td>87.98</td>\n",
       "      <td>80</td>\n",
       "      <td>52</td>\n",
       "      <td>6.98</td>\n",
       "    </tr>\n",
       "    <tr>\n",
       "      <th>4</th>\n",
       "      <td>rikitea</td>\n",
       "      <td>-23.1203</td>\n",
       "      <td>-134.9692</td>\n",
       "      <td>71.65</td>\n",
       "      <td>65</td>\n",
       "      <td>99</td>\n",
       "      <td>24.83</td>\n",
       "    </tr>\n",
       "  </tbody>\n",
       "</table>\n",
       "</div>"
      ]
     },
     "metadata": {},
     "execution_count": 24
    }
   ],
   "metadata": {}
  },
  {
   "cell_type": "code",
   "execution_count": 25,
   "source": [
    "weather_data.info()"
   ],
   "outputs": [
    {
     "output_type": "stream",
     "name": "stdout",
     "text": [
      "<class 'pandas.core.frame.DataFrame'>\n",
      "RangeIndex: 551 entries, 0 to 550\n",
      "Data columns (total 7 columns):\n",
      " #   Column      Non-Null Count  Dtype  \n",
      "---  ------      --------------  -----  \n",
      " 0   city        551 non-null    object \n",
      " 1   latitude    551 non-null    float64\n",
      " 2   longitude   551 non-null    float64\n",
      " 3   temp_max_F  551 non-null    float64\n",
      " 4   humid       551 non-null    int64  \n",
      " 5   cloud       551 non-null    int64  \n",
      " 6   wind_mph    551 non-null    float64\n",
      "dtypes: float64(4), int64(2), object(1)\n",
      "memory usage: 30.3+ KB\n"
     ]
    }
   ],
   "metadata": {}
  },
  {
   "cell_type": "markdown",
   "source": [
    "### Humidity Heatmap\n",
    "* Configure gmaps.\n",
    "* Use the Lat and Lng as locations and Humidity as the weight.\n",
    "* Add Heatmap layer to map."
   ],
   "metadata": {}
  },
  {
   "cell_type": "code",
   "execution_count": 96,
   "source": [
    "# Store latitude and longitude in locations\r\n",
    "locations = weather_data[[\"latitude\", \"longitude\"]]\r\n",
    "\r\n",
    "# use humidity as the weight\r\n",
    "map_weight = weather_data[\"humid\"]\r\n",
    "\r\n",
    "# set figure layout\r\n",
    "figure_layout = {\r\n",
    "    'width': '400px',\r\n",
    "    'height': '300px',\r\n",
    "    'border': '1px solid black',\r\n",
    "    'padding': '1px'\r\n",
    "}\r\n",
    "\r\n",
    "# Plot Heatmap\r\n",
    "fig = gmaps.figure(map_type = 'HYBRID', layout=figure_layout)\r\n",
    "\r\n",
    "\r\n",
    "\r\n",
    "# Create heat layer\r\n",
    "heat_layer = gmaps.heatmap_layer(locations, \r\n",
    "                                weights=map_weight,\r\n",
    "                                dissipating=False, \r\n",
    "                                max_intensity=200,\r\n",
    "                                point_radius=8, \r\n",
    "                                opacity = 0.4,\r\n",
    "                                gradient = [\r\n",
    "                                            'white',\r\n",
    "                                            'aqua',\r\n",
    "                                            'purple'\r\n",
    "                                            ])\r\n",
    "\r\n",
    "# Add layer\r\n",
    "fig.add_layer(heat_layer)\r\n",
    "\r\n",
    "# Display figure\r\n",
    "fig\r\n"
   ],
   "outputs": [
    {
     "output_type": "display_data",
     "data": {
      "text/plain": [
       "Figure(layout=FigureLayout(border='1px solid black', height='300px', padding='1px', width='400px'))"
      ],
      "application/vnd.jupyter.widget-view+json": {
       "version_major": 2,
       "version_minor": 0,
       "model_id": "e66d7360fb124a98a2fa109a6048efba"
      }
     },
     "metadata": {}
    }
   ],
   "metadata": {}
  },
  {
   "cell_type": "code",
   "execution_count": null,
   "source": [],
   "outputs": [],
   "metadata": {}
  },
  {
   "cell_type": "markdown",
   "source": [
    "### Create new DataFrame fitting weather criteria\n",
    "* Narrow down the cities to fit weather conditions.\n",
    "* Drop any rows will null values."
   ],
   "metadata": {}
  },
  {
   "cell_type": "code",
   "execution_count": 102,
   "source": [
    "ideal_weather_places = weather_data.loc[\r\n",
    "    (weather_data['temp_max_F']> 81) &\r\n",
    "    (weather_data['temp_max_F']< 85) &\r\n",
    "    (weather_data['cloud']<40) & \r\n",
    "    (weather_data['wind_mph']<20)]\r\n",
    "\r\n",
    "\r\n",
    "ideal_weather_places.reset_index(inplace = True, drop = True)\r\n",
    "ideal_weather_places"
   ],
   "outputs": [
    {
     "output_type": "execute_result",
     "data": {
      "text/plain": [
       "              city  latitude  longitude  temp_max_F  humid  cloud  wind_mph\n",
       "0            erzin   36.9559    36.2000       83.12     59      0      3.11\n",
       "1        kadungora   -7.0899   107.8864       81.93     57     25      4.47\n",
       "2           hohhot   40.8106   111.6522       84.49     42     20      6.71\n",
       "3       abu samrah   35.3029    37.1841       82.92     34      0     11.99\n",
       "4           durusu   41.3053    28.6767       81.54     89      0      4.00\n",
       "5            yatou   37.1500   122.3833       84.11     68     29     12.12\n",
       "6         shahreza   32.0339    51.8794       81.90     23     32      3.02\n",
       "7  puerto colombia   10.9878   -74.9547       82.49     84      5     15.12"
      ],
      "text/html": [
       "<div>\n",
       "<style scoped>\n",
       "    .dataframe tbody tr th:only-of-type {\n",
       "        vertical-align: middle;\n",
       "    }\n",
       "\n",
       "    .dataframe tbody tr th {\n",
       "        vertical-align: top;\n",
       "    }\n",
       "\n",
       "    .dataframe thead th {\n",
       "        text-align: right;\n",
       "    }\n",
       "</style>\n",
       "<table border=\"1\" class=\"dataframe\">\n",
       "  <thead>\n",
       "    <tr style=\"text-align: right;\">\n",
       "      <th></th>\n",
       "      <th>city</th>\n",
       "      <th>latitude</th>\n",
       "      <th>longitude</th>\n",
       "      <th>temp_max_F</th>\n",
       "      <th>humid</th>\n",
       "      <th>cloud</th>\n",
       "      <th>wind_mph</th>\n",
       "    </tr>\n",
       "  </thead>\n",
       "  <tbody>\n",
       "    <tr>\n",
       "      <th>0</th>\n",
       "      <td>erzin</td>\n",
       "      <td>36.9559</td>\n",
       "      <td>36.2000</td>\n",
       "      <td>83.12</td>\n",
       "      <td>59</td>\n",
       "      <td>0</td>\n",
       "      <td>3.11</td>\n",
       "    </tr>\n",
       "    <tr>\n",
       "      <th>1</th>\n",
       "      <td>kadungora</td>\n",
       "      <td>-7.0899</td>\n",
       "      <td>107.8864</td>\n",
       "      <td>81.93</td>\n",
       "      <td>57</td>\n",
       "      <td>25</td>\n",
       "      <td>4.47</td>\n",
       "    </tr>\n",
       "    <tr>\n",
       "      <th>2</th>\n",
       "      <td>hohhot</td>\n",
       "      <td>40.8106</td>\n",
       "      <td>111.6522</td>\n",
       "      <td>84.49</td>\n",
       "      <td>42</td>\n",
       "      <td>20</td>\n",
       "      <td>6.71</td>\n",
       "    </tr>\n",
       "    <tr>\n",
       "      <th>3</th>\n",
       "      <td>abu samrah</td>\n",
       "      <td>35.3029</td>\n",
       "      <td>37.1841</td>\n",
       "      <td>82.92</td>\n",
       "      <td>34</td>\n",
       "      <td>0</td>\n",
       "      <td>11.99</td>\n",
       "    </tr>\n",
       "    <tr>\n",
       "      <th>4</th>\n",
       "      <td>durusu</td>\n",
       "      <td>41.3053</td>\n",
       "      <td>28.6767</td>\n",
       "      <td>81.54</td>\n",
       "      <td>89</td>\n",
       "      <td>0</td>\n",
       "      <td>4.00</td>\n",
       "    </tr>\n",
       "    <tr>\n",
       "      <th>5</th>\n",
       "      <td>yatou</td>\n",
       "      <td>37.1500</td>\n",
       "      <td>122.3833</td>\n",
       "      <td>84.11</td>\n",
       "      <td>68</td>\n",
       "      <td>29</td>\n",
       "      <td>12.12</td>\n",
       "    </tr>\n",
       "    <tr>\n",
       "      <th>6</th>\n",
       "      <td>shahreza</td>\n",
       "      <td>32.0339</td>\n",
       "      <td>51.8794</td>\n",
       "      <td>81.90</td>\n",
       "      <td>23</td>\n",
       "      <td>32</td>\n",
       "      <td>3.02</td>\n",
       "    </tr>\n",
       "    <tr>\n",
       "      <th>7</th>\n",
       "      <td>puerto colombia</td>\n",
       "      <td>10.9878</td>\n",
       "      <td>-74.9547</td>\n",
       "      <td>82.49</td>\n",
       "      <td>84</td>\n",
       "      <td>5</td>\n",
       "      <td>15.12</td>\n",
       "    </tr>\n",
       "  </tbody>\n",
       "</table>\n",
       "</div>"
      ]
     },
     "metadata": {},
     "execution_count": 102
    }
   ],
   "metadata": {}
  },
  {
   "cell_type": "markdown",
   "source": [
    "### Hotel Map\n",
    "* Store into variable named `hotel_df`.\n",
    "* Add a \"Hotel Name\" column to the DataFrame.\n",
    "* Set parameters to search for hotels with 5000 meters.\n",
    "* Hit the Google Places API for each city's coordinates.\n",
    "* Store the first Hotel result into the DataFrame.\n",
    "* Plot markers on top of the heatmap."
   ],
   "metadata": {}
  },
  {
   "cell_type": "code",
   "execution_count": 145,
   "source": [
    "hotel_df = ideal_weather_places[['city', 'latitude', 'longitude']]\r\n",
    "hotel_df = hotel_df.rename(columns = {\"city\":\"City\", \"latitude\":\"Lat\", \"longitude\":\"Lng\"})\r\n",
    "\r\n",
    "# set up additional columns to hold information\r\n",
    "hotel_df['Hotel Name'] = \"\"\r\n",
    "hotel_df['Country'] = \"\""
   ],
   "outputs": [],
   "metadata": {}
  },
  {
   "cell_type": "code",
   "execution_count": 150,
   "source": [
    "# find the closest hotel to coordinates\r\n",
    "\r\n",
    "base_url = \"https://maps.googleapis.com/maps/api/place/nearbysearch/json\"\r\n",
    "params = {\r\n",
    "    \"rankby\": \"distance\",\r\n",
    "    \"type\": \"lodging\",\r\n",
    "    \"keyword\" : \"hotel\",\r\n",
    "    \"key\": g_key,\r\n",
    "}\r\n",
    "# use iterrows to iterate through pandas dataframe\r\n",
    "for index, row in hotel_df.iterrows():\r\n",
    "\r\n",
    "    # add location to params dict, using latitude and longitude columns\r\n",
    "    params['location'] = (f'{str(row[\"Lat\"])},{str(row[\"Lng\"])}')\r\n",
    "\r\n",
    "    # assemble url and make API request\r\n",
    "    print(f\"Retrieving Results for Index {index}: {row['City']}.\")\r\n",
    "    response = requests.get(base_url, params=params).json()\r\n",
    "    \r\n",
    "    # extract results\r\n",
    "    results = response['results']\r\n",
    "\r\n",
    "        \r\n",
    "    try:\r\n",
    "        print(f\"Closest hotel is {results[0]['name']}.\")\r\n",
    "        \r\n",
    "        hotel_df.loc[index, 'Hotel Name'] = results[0]['name']\r\n",
    "            \r\n",
    "        \r\n",
    "    except (KeyError, IndexError):\r\n",
    "        print(\"Missing field/result... skipping.\")\r\n",
    "        \r\n",
    "    print(\"------------\")\r\n",
    "\r\n"
   ],
   "outputs": [
    {
     "output_type": "stream",
     "name": "stdout",
     "text": [
      "Retrieving Results for Index 0: erzin.\n",
      "Closest hotel is Artemis Otel.\n",
      "------------\n",
      "Retrieving Results for Index 1: kadungora.\n",
      "Closest hotel is Hotel Santika Garut.\n",
      "------------\n",
      "Retrieving Results for Index 2: hohhot.\n",
      "Closest hotel is Jinjiang Inn Hohhot South Tongdao Road.\n",
      "------------\n",
      "Retrieving Results for Index 3: abu samrah.\n",
      "Closest hotel is Resort Safari Souria منتجع سفاري سورية.\n",
      "------------\n",
      "Retrieving Results for Index 4: durusu.\n",
      "Closest hotel is Karam Hotel.\n",
      "------------\n",
      "Retrieving Results for Index 5: yatou.\n",
      "Closest hotel is Founder Hotel.\n",
      "------------\n",
      "Retrieving Results for Index 6: shahreza.\n",
      "Closest hotel is خانه مسافر اسپاد.\n",
      "------------\n",
      "Retrieving Results for Index 7: puerto colombia.\n",
      "Closest hotel is Kasamar Hostal. Puerto Colombia. Barranquilla.\n",
      "------------\n"
     ]
    }
   ],
   "metadata": {}
  },
  {
   "cell_type": "code",
   "execution_count": 163,
   "source": [
    "# find the Country that the city is in\r\n",
    "base_url = \"https://maps.googleapis.com/maps/api/geocode/json\"\r\n",
    "params = {\"key\": g_key, \"result_type\":\"country\"}\r\n",
    "\r\n",
    "# use iterrows to iterate through pandas dataframe\r\n",
    "for index, row in hotel_df.iterrows():\r\n",
    "\r\n",
    "    # add location to params dict, using latitude and longitude columns\r\n",
    "    params['latlng'] = (f'{str(row[\"Lat\"])},{str(row[\"Lng\"])}')\r\n",
    "\r\n",
    "    # assemble url and make API request\r\n",
    "    print(f\"Retrieving Results for Index {index}: {row['City']}.\")\r\n",
    "    response = requests.get(base_url, params=params).json()\r\n",
    "    \r\n",
    "    # extract results\r\n",
    "    results = response['results']\r\n",
    "\r\n",
    "        \r\n",
    "    try:\r\n",
    "               \r\n",
    "        hotel_df.loc[index, 'Country'] = results[0]['address_components'][0]['long_name']\r\n",
    "            \r\n",
    "        \r\n",
    "    except (KeyError, IndexError):\r\n",
    "        print(\"Missing field/result... skipping.\")\r\n",
    "        \r\n",
    "    print(\"------------\")"
   ],
   "outputs": [
    {
     "output_type": "stream",
     "name": "stdout",
     "text": [
      "Retrieving Results for Index 0: erzin.\n",
      "------------\n",
      "Retrieving Results for Index 1: kadungora.\n",
      "------------\n",
      "Retrieving Results for Index 2: hohhot.\n",
      "------------\n",
      "Retrieving Results for Index 3: abu samrah.\n",
      "------------\n",
      "Retrieving Results for Index 4: durusu.\n",
      "------------\n",
      "Retrieving Results for Index 5: yatou.\n",
      "------------\n",
      "Retrieving Results for Index 6: shahreza.\n",
      "------------\n",
      "Retrieving Results for Index 7: puerto colombia.\n",
      "------------\n"
     ]
    }
   ],
   "metadata": {}
  },
  {
   "cell_type": "code",
   "execution_count": 162,
   "source": [
    "results[0]['address_components'][0]['long_name']"
   ],
   "outputs": [
    {
     "output_type": "execute_result",
     "data": {
      "text/plain": [
       "'Colombia'"
      ]
     },
     "metadata": {},
     "execution_count": 162
    }
   ],
   "metadata": {}
  },
  {
   "cell_type": "code",
   "execution_count": 159,
   "source": [
    "base_url = \"https://maps.googleapis.com/maps/api/geocode/json\"\r\n",
    "params = {\"key\": g_key, \"result_type\":\"country\"}\r\n",
    "\r\n",
    "params['latlng'] = '36.9559,36.2000'\r\n",
    "response = requests.get(base_url, params=params).json()\r\n",
    "results = response['results']\r\n",
    "results[0]['address_components'][0]['long_name']"
   ],
   "outputs": [
    {
     "output_type": "execute_result",
     "data": {
      "text/plain": [
       "'Turkey'"
      ]
     },
     "metadata": {},
     "execution_count": 159
    }
   ],
   "metadata": {}
  },
  {
   "cell_type": "code",
   "execution_count": 164,
   "source": [
    "hotel_df"
   ],
   "outputs": [
    {
     "output_type": "execute_result",
     "data": {
      "text/plain": [
       "              City      Lat       Lng  \\\n",
       "0            erzin  36.9559   36.2000   \n",
       "1        kadungora  -7.0899  107.8864   \n",
       "2           hohhot  40.8106  111.6522   \n",
       "3       abu samrah  35.3029   37.1841   \n",
       "4           durusu  41.3053   28.6767   \n",
       "5            yatou  37.1500  122.3833   \n",
       "6         shahreza  32.0339   51.8794   \n",
       "7  puerto colombia  10.9878  -74.9547   \n",
       "\n",
       "                                      Hotel Name    Country  \n",
       "0                                   Artemis Otel     Turkey  \n",
       "1                            Hotel Santika Garut  Indonesia  \n",
       "2         Jinjiang Inn Hohhot South Tongdao Road      China  \n",
       "3         Resort Safari Souria منتجع سفاري سورية      Syria  \n",
       "4                                    Karam Hotel     Turkey  \n",
       "5                                  Founder Hotel      China  \n",
       "6                               خانه مسافر اسپاد       Iran  \n",
       "7  Kasamar Hostal. Puerto Colombia. Barranquilla   Colombia  "
      ],
      "text/html": [
       "<div>\n",
       "<style scoped>\n",
       "    .dataframe tbody tr th:only-of-type {\n",
       "        vertical-align: middle;\n",
       "    }\n",
       "\n",
       "    .dataframe tbody tr th {\n",
       "        vertical-align: top;\n",
       "    }\n",
       "\n",
       "    .dataframe thead th {\n",
       "        text-align: right;\n",
       "    }\n",
       "</style>\n",
       "<table border=\"1\" class=\"dataframe\">\n",
       "  <thead>\n",
       "    <tr style=\"text-align: right;\">\n",
       "      <th></th>\n",
       "      <th>City</th>\n",
       "      <th>Lat</th>\n",
       "      <th>Lng</th>\n",
       "      <th>Hotel Name</th>\n",
       "      <th>Country</th>\n",
       "    </tr>\n",
       "  </thead>\n",
       "  <tbody>\n",
       "    <tr>\n",
       "      <th>0</th>\n",
       "      <td>erzin</td>\n",
       "      <td>36.9559</td>\n",
       "      <td>36.2000</td>\n",
       "      <td>Artemis Otel</td>\n",
       "      <td>Turkey</td>\n",
       "    </tr>\n",
       "    <tr>\n",
       "      <th>1</th>\n",
       "      <td>kadungora</td>\n",
       "      <td>-7.0899</td>\n",
       "      <td>107.8864</td>\n",
       "      <td>Hotel Santika Garut</td>\n",
       "      <td>Indonesia</td>\n",
       "    </tr>\n",
       "    <tr>\n",
       "      <th>2</th>\n",
       "      <td>hohhot</td>\n",
       "      <td>40.8106</td>\n",
       "      <td>111.6522</td>\n",
       "      <td>Jinjiang Inn Hohhot South Tongdao Road</td>\n",
       "      <td>China</td>\n",
       "    </tr>\n",
       "    <tr>\n",
       "      <th>3</th>\n",
       "      <td>abu samrah</td>\n",
       "      <td>35.3029</td>\n",
       "      <td>37.1841</td>\n",
       "      <td>Resort Safari Souria منتجع سفاري سورية</td>\n",
       "      <td>Syria</td>\n",
       "    </tr>\n",
       "    <tr>\n",
       "      <th>4</th>\n",
       "      <td>durusu</td>\n",
       "      <td>41.3053</td>\n",
       "      <td>28.6767</td>\n",
       "      <td>Karam Hotel</td>\n",
       "      <td>Turkey</td>\n",
       "    </tr>\n",
       "    <tr>\n",
       "      <th>5</th>\n",
       "      <td>yatou</td>\n",
       "      <td>37.1500</td>\n",
       "      <td>122.3833</td>\n",
       "      <td>Founder Hotel</td>\n",
       "      <td>China</td>\n",
       "    </tr>\n",
       "    <tr>\n",
       "      <th>6</th>\n",
       "      <td>shahreza</td>\n",
       "      <td>32.0339</td>\n",
       "      <td>51.8794</td>\n",
       "      <td>خانه مسافر اسپاد</td>\n",
       "      <td>Iran</td>\n",
       "    </tr>\n",
       "    <tr>\n",
       "      <th>7</th>\n",
       "      <td>puerto colombia</td>\n",
       "      <td>10.9878</td>\n",
       "      <td>-74.9547</td>\n",
       "      <td>Kasamar Hostal. Puerto Colombia. Barranquilla</td>\n",
       "      <td>Colombia</td>\n",
       "    </tr>\n",
       "  </tbody>\n",
       "</table>\n",
       "</div>"
      ]
     },
     "metadata": {},
     "execution_count": 164
    }
   ],
   "metadata": {}
  },
  {
   "cell_type": "code",
   "execution_count": 165,
   "source": [
    "# NOTE: Do not change any of the code in this cell\r\n",
    "\r\n",
    "# Using the template add the hotel marks to the heatmap\r\n",
    "info_box_template = \"\"\"\r\n",
    "<dl>\r\n",
    "<dt>Name</dt><dd>{Hotel Name}</dd>\r\n",
    "<dt>City</dt><dd>{City}</dd>\r\n",
    "<dt>Country</dt><dd>{Country}</dd>\r\n",
    "</dl>\r\n",
    "\"\"\"\r\n",
    "# Store the DataFrame Row\r\n",
    "# NOTE: be sure to update with your DataFrame name\r\n",
    "hotel_info = [info_box_template.format(**row) for index, row in hotel_df.iterrows()]\r\n",
    "locations = hotel_df[[\"Lat\", \"Lng\"]]"
   ],
   "outputs": [],
   "metadata": {}
  },
  {
   "cell_type": "code",
   "execution_count": 125,
   "source": [
    "info_box_template"
   ],
   "outputs": [
    {
     "output_type": "execute_result",
     "data": {
      "text/plain": [
       "'\\n<dl>\\n<dt>Name</dt><dd>{Hotel Name}</dd>\\n<dt>City</dt><dd>{City}</dd>\\n<dt>Country</dt><dd>{Country}</dd>\\n</dl>\\n'"
      ]
     },
     "metadata": {},
     "execution_count": 125
    }
   ],
   "metadata": {}
  },
  {
   "cell_type": "code",
   "execution_count": null,
   "source": [
    "# Add marker layer ontop of heat map\r\n",
    "\r\n",
    "\r\n",
    "# Display figure\r\n"
   ],
   "outputs": [],
   "metadata": {}
  },
  {
   "cell_type": "code",
   "execution_count": 142,
   "source": [
    "results[0]"
   ],
   "outputs": [
    {
     "output_type": "execute_result",
     "data": {
      "text/plain": [
       "{'business_status': 'OPERATIONAL',\n",
       " 'geometry': {'location': {'lat': 36.9526703, 'lng': 36.2378766},\n",
       "  'viewport': {'northeast': {'lat': 36.95406332989272,\n",
       "    'lng': 36.23921452989272},\n",
       "   'southwest': {'lat': 36.95136367010728, 'lng': 36.23651487010728}}},\n",
       " 'icon': 'https://maps.gstatic.com/mapfiles/place_api/icons/v1/png_71/lodging-71.png',\n",
       " 'name': 'Artemis Otel',\n",
       " 'opening_hours': {'open_now': True},\n",
       " 'photos': [{'height': 1080,\n",
       "   'html_attributions': ['<a href=\"https://maps.google.com/maps/contrib/117865296681741467490\">Serhat Büyükurvaylı</a>'],\n",
       "   'photo_reference': 'Aap_uEASDsiXT61n-GNPmXilVvqhHk_pnwSjrxVUrBq8sWLAA2xMKYTvN5l2Z2ZRdpYbGRCVo8-jMVWzun-qTfo-L9PwrOBoxLn467MNPqG6jIC-dfwpR7X0uqbMZ4L-d20R1C96D6yK1DnrjhcvuP7GURE6M8J9V2Tceyz3RKZa2-_IOXlA',\n",
       "   'width': 1920}],\n",
       " 'place_id': 'ChIJQd93zj49LxURardYAwgyzQM',\n",
       " 'plus_code': {'compound_code': 'X63Q+35 Erzin, Hatay, Turkey',\n",
       "  'global_code': '8G8RX63Q+35'},\n",
       " 'rating': 4,\n",
       " 'reference': 'ChIJQd93zj49LxURardYAwgyzQM',\n",
       " 'scope': 'GOOGLE',\n",
       " 'types': ['lodging', 'point_of_interest', 'establishment'],\n",
       " 'user_ratings_total': 285,\n",
       " 'vicinity': 'Baslamis Mah. Icmeler Yolu No5-4 Hatay, Erzin'}"
      ]
     },
     "metadata": {},
     "execution_count": 142
    }
   ],
   "metadata": {}
  }
 ],
 "metadata": {
  "kernelspec": {
   "display_name": "pydev",
   "language": "python",
   "name": "pydev"
  },
  "language_info": {
   "codemirror_mode": {
    "name": "ipython",
    "version": 3
   },
   "file_extension": ".py",
   "mimetype": "text/x-python",
   "name": "python",
   "nbconvert_exporter": "python",
   "pygments_lexer": "ipython3",
   "version": "3.7.7"
  },
  "latex_envs": {
   "LaTeX_envs_menu_present": true,
   "autoclose": false,
   "autocomplete": true,
   "bibliofile": "biblio.bib",
   "cite_by": "apalike",
   "current_citInitial": 1,
   "eqLabelWithNumbers": true,
   "eqNumInitial": 1,
   "hotkeys": {
    "equation": "Ctrl-E",
    "itemize": "Ctrl-I"
   },
   "labels_anchors": false,
   "latex_user_defs": false,
   "report_style_numbering": false,
   "user_envs_cfg": false
  }
 },
 "nbformat": 4,
 "nbformat_minor": 4
}